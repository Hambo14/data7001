{
 "cells": [
  {
   "cell_type": "code",
   "execution_count": 1,
   "id": "5e396c2c-7dc1-4a3f-9dfe-5701dc5a27a5",
   "metadata": {},
   "outputs": [],
   "source": [
    "import pandas as pd\n",
    "import numpy as np\n",
    "import matplotlib.pyplot as plt\n",
    "import seaborn as sns\n",
    "import warnings\n",
    "warnings.filterwarnings('ignore')\n",
    "plt.style.use('default')\n",
    "sns.set_palette(\"husl\")"
   ]
  },
  {
   "cell_type": "code",
   "execution_count": 2,
   "id": "2fee8a92-c973-4123-8ea1-9662968c91bd",
   "metadata": {},
   "outputs": [],
   "source": [
    "def read_world_bank_csv(filename):\n",
    "    \"\"\"Read World Bank CSV file, skip metadata rows\"\"\"\n",
    "    with open(filename, 'r', encoding='utf-8') as f:\n",
    "        lines = f.readlines()\n",
    "    \n",
    "    start_row = 0\n",
    "    for i, line in enumerate(lines):\n",
    "        if 'Country Name' in line:\n",
    "            start_row = i\n",
    "            break\n",
    "    \n",
    "    df = pd.read_csv(filename, skiprows=start_row, encoding='utf-8')\n",
    "    return df"
   ]
  },
  {
   "cell_type": "code",
   "execution_count": 3,
   "id": "f3917731-2ca9-4b94-b1f2-3e811c6882f4",
   "metadata": {},
   "outputs": [
    {
     "name": "stdout",
     "output_type": "stream",
     "text": [
      "Reading unemployment.csv...\n",
      "Unemployment data: (266, 70)\n"
     ]
    }
   ],
   "source": [
    "print(\"Reading unemployment.csv...\")\n",
    "df_unemployment = read_world_bank_csv('unemployment.csv')\n",
    "print(f\"Unemployment data: {df_unemployment.shape}\")"
   ]
  },
  {
   "cell_type": "code",
   "execution_count": 4,
   "id": "662a3467-ca02-49a9-bc8f-096dfbfc2c01",
   "metadata": {},
   "outputs": [
    {
     "name": "stdout",
     "output_type": "stream",
     "text": [
      "Reading Inflation.csv...\n",
      "Inflation data: (266, 70)\n"
     ]
    }
   ],
   "source": [
    "print(\"Reading Inflation.csv...\")\n",
    "df_inflation = read_world_bank_csv('Inflation.csv')\n",
    "print(f\"Inflation data: {df_inflation.shape}\")"
   ]
  },
  {
   "cell_type": "code",
   "execution_count": 5,
   "id": "3bd14c6b-58ed-4f8f-a8a6-08aa8141087b",
   "metadata": {},
   "outputs": [
    {
     "name": "stdout",
     "output_type": "stream",
     "text": [
      "Reading GDP_per_capita.csv...\n",
      "GDP per capita data: (266, 70)\n"
     ]
    }
   ],
   "source": [
    "print(\"Reading GDP_per_capita.csv...\")\n",
    "df_gdp_per_capita = read_world_bank_csv('GDP_per_capita.csv')\n",
    "print(f\"GDP per capita data: {df_gdp_per_capita.shape}\")"
   ]
  },
  {
   "cell_type": "code",
   "execution_count": 6,
   "id": "47adac28-a8ae-47cf-800f-b5b35fd352af",
   "metadata": {},
   "outputs": [
    {
     "name": "stdout",
     "output_type": "stream",
     "text": [
      "Reading GDP.csv...\n",
      "Total GDP data: (266, 70)\n"
     ]
    }
   ],
   "source": [
    "print(\"Reading GDP.csv...\")\n",
    "df_gdp_total = read_world_bank_csv('GDP.csv')\n",
    "print(f\"Total GDP data: {df_gdp_total.shape}\")"
   ]
  },
  {
   "cell_type": "code",
   "execution_count": 7,
   "id": "625df7c7-424b-4961-8521-3dcf7631836f",
   "metadata": {},
   "outputs": [
    {
     "name": "stdout",
     "output_type": "stream",
     "text": [
      "Reading Country_Codes.csv...\n",
      "Country codes data: (265, 6)\n"
     ]
    }
   ],
   "source": [
    "print(\"Reading Country_Codes.csv...\")\n",
    "df_country_codes = pd.read_csv('Country_Codes.csv', encoding='utf-8')\n",
    "print(f\"Country codes data: {df_country_codes.shape}\")"
   ]
  },
  {
   "cell_type": "code",
   "execution_count": 8,
   "id": "2adf8401-80b7-432a-abf1-1d9b040e09c6",
   "metadata": {},
   "outputs": [
    {
     "name": "stdout",
     "output_type": "stream",
     "text": [
      "Starting merge...\n",
      "Base data (unemployment): (266, 70)\n"
     ]
    }
   ],
   "source": [
    "print(\"Starting merge...\")\n",
    "merged_df = df_unemployment.copy()\n",
    "print(f\"Base data (unemployment): {merged_df.shape}\")"
   ]
  },
  {
   "cell_type": "code",
   "execution_count": 9,
   "id": "913177d5-0649-4f64-b35f-a4070eed2978",
   "metadata": {},
   "outputs": [
    {
     "name": "stdout",
     "output_type": "stream",
     "text": [
      "After merging inflation: (266, 138)\n"
     ]
    }
   ],
   "source": [
    "merged_df = pd.merge(merged_df, df_inflation, on=['Country Name', 'Country Code'], \n",
    "                    how='outer', suffixes=('_unemployment', '_inflation'))\n",
    "print(f\"After merging inflation: {merged_df.shape}\")"
   ]
  },
  {
   "cell_type": "code",
   "execution_count": 10,
   "id": "e7b899de-c4bb-4978-b6fb-61296c4ae861",
   "metadata": {},
   "outputs": [
    {
     "name": "stdout",
     "output_type": "stream",
     "text": [
      "After merging GDP per capita: (266, 206)\n"
     ]
    }
   ],
   "source": [
    "merged_df = pd.merge(merged_df, df_gdp_per_capita, on=['Country Name', 'Country Code'], \n",
    "                    how='outer', suffixes=('', '_gdp_per_capita'))\n",
    "print(f\"After merging GDP per capita: {merged_df.shape}\")"
   ]
  },
  {
   "cell_type": "code",
   "execution_count": 11,
   "id": "a20de9a6-4df3-4ba2-8fe7-580b73f10d74",
   "metadata": {},
   "outputs": [
    {
     "name": "stdout",
     "output_type": "stream",
     "text": [
      "After merging total GDP: (266, 274)\n"
     ]
    }
   ],
   "source": [
    "merged_df = pd.merge(merged_df, df_gdp_total, on=['Country Name', 'Country Code'], \n",
    "                    how='outer', suffixes=('', '_gdp_total'))\n",
    "print(f\"After merging total GDP: {merged_df.shape}\")"
   ]
  },
  {
   "cell_type": "code",
   "execution_count": 12,
   "id": "a1ba053d-0398-4426-8d87-8f617803d757",
   "metadata": {},
   "outputs": [
    {
     "name": "stdout",
     "output_type": "stream",
     "text": [
      "After merging country codes: (266, 279)\n"
     ]
    }
   ],
   "source": [
    "merged_df = pd.merge(merged_df, df_country_codes, on='Country Code', how='left')\n",
    "print(f\"After merging country codes: {merged_df.shape}\")"
   ]
  },
  {
   "cell_type": "code",
   "execution_count": 13,
   "id": "13ac751d-fc2d-4837-824d-2b14765833a5",
   "metadata": {},
   "outputs": [
    {
     "name": "stdout",
     "output_type": "stream",
     "text": [
      "Saving complete integrated data...\n",
      "Complete CSV saved: integrated_data_complete.csv\n"
     ]
    }
   ],
   "source": [
    "print(\"Saving complete integrated data...\")\n",
    "complete_csv = 'integrated_data_complete.csv'\n",
    "merged_df.to_csv(complete_csv, index=False, encoding='utf-8-sig')\n",
    "print(f\"Complete CSV saved: {complete_csv}\")"
   ]
  },
  {
   "cell_type": "code",
   "execution_count": 14,
   "id": "cb3257cc-c8ab-4a58-955f-eff6d18afab6",
   "metadata": {},
   "outputs": [
    {
     "name": "stdout",
     "output_type": "stream",
     "text": [
      "Complete Excel saved: integrated_data_complete.xlsx\n"
     ]
    }
   ],
   "source": [
    "complete_excel = 'integrated_data_complete.xlsx'\n",
    "merged_df.to_excel(complete_excel, index=False)\n",
    "print(f\"Complete Excel saved: {complete_excel}\")"
   ]
  },
  {
   "cell_type": "code",
   "execution_count": 15,
   "id": "74ada105-9c31-47b5-8892-f0b83f60d0df",
   "metadata": {},
   "outputs": [
    {
     "name": "stdout",
     "output_type": "stream",
     "text": [
      "Complete data statistics:\n",
      "Data dimensions: 266 rows x 279 columns\n",
      "Data completeness: 69.8%\n",
      "Total cells: 74,214\n",
      "Null cells: 22,399\n"
     ]
    }
   ],
   "source": [
    "total_cells = merged_df.shape[0] * merged_df.shape[1]\n",
    "null_cells = merged_df.isnull().sum().sum()\n",
    "completeness = (total_cells - null_cells) / total_cells * 100\n",
    "\n",
    "print(\"Complete data statistics:\")\n",
    "print(f\"Data dimensions: {merged_df.shape[0]} rows x {merged_df.shape[1]} columns\")\n",
    "print(f\"Data completeness: {completeness:.1f}%\")\n",
    "print(f\"Total cells: {total_cells:,}\")\n",
    "print(f\"Null cells: {null_cells:,}\")"
   ]
  },
  {
   "cell_type": "code",
   "execution_count": 16,
   "id": "9417aba3-4f1c-4971-a470-2c09413ecf85",
   "metadata": {},
   "outputs": [
    {
     "name": "stdout",
     "output_type": "stream",
     "text": [
      "Data preview:\n",
      "                  Country Name Country Code  \\\n",
      "0                  Afghanistan          AFG   \n",
      "1  Africa Eastern and Southern          AFE   \n",
      "2   Africa Western and Central          AFW   \n",
      "3                      Albania          ALB   \n",
      "4                      Algeria          DZA   \n",
      "\n",
      "                         Indicator Name_unemployment  \\\n",
      "0  Unemployment, total (% of total labor force) (...   \n",
      "1  Unemployment, total (% of total labor force) (...   \n",
      "2  Unemployment, total (% of total labor force) (...   \n",
      "3  Unemployment, total (% of total labor force) (...   \n",
      "4  Unemployment, total (% of total labor force) (...   \n",
      "\n",
      "  Indicator Code_unemployment  1960_unemployment  1961_unemployment  \\\n",
      "0              SL.UEM.TOTL.ZS                NaN                NaN   \n",
      "1              SL.UEM.TOTL.ZS                NaN                NaN   \n",
      "2              SL.UEM.TOTL.ZS                NaN                NaN   \n",
      "3              SL.UEM.TOTL.ZS                NaN                NaN   \n",
      "4              SL.UEM.TOTL.ZS                NaN                NaN   \n",
      "\n",
      "   1962_unemployment  1963_unemployment  1964_unemployment  1965_unemployment  \\\n",
      "0                NaN                NaN                NaN                NaN   \n",
      "1                NaN                NaN                NaN                NaN   \n",
      "2                NaN                NaN                NaN                NaN   \n",
      "3                NaN                NaN                NaN                NaN   \n",
      "4                NaN                NaN                NaN                NaN   \n",
      "\n",
      "   ...  2021_gdp_total  2022_gdp_total  2023_gdp_total  2024_gdp_total  \\\n",
      "0  ...    1.426000e+10    1.449724e+10    1.715223e+10             NaN   \n",
      "1  ...    1.085605e+12    1.191639e+12    1.176910e+12    1.287677e+12   \n",
      "2  ...    8.581145e+11    8.936399e+11    8.147285e+11    6.700257e+11   \n",
      "3  ...    1.803201e+10    1.901724e+10    2.354718e+10    2.717774e+10   \n",
      "4  ...    1.862312e+11    2.256385e+11    2.476262e+11    2.636198e+11   \n",
      "\n",
      "   Unnamed: 69_gdp_total                                             Region  \\\n",
      "0                    NaN  Middle East, North Africa, Afghanistan & Pakistan   \n",
      "1                    NaN                                                NaN   \n",
      "2                    NaN                                                NaN   \n",
      "3                    NaN                              Europe & Central Asia   \n",
      "4                    NaN  Middle East, North Africa, Afghanistan & Pakistan   \n",
      "\n",
      "           IncomeGroup                                       SpecialNotes  \\\n",
      "0           Low income  The reporting period for national accounts dat...   \n",
      "1                  NaN  26 countries, stretching from the Red Sea in t...   \n",
      "2                  NaN  22 countries, stretching from the westernmost ...   \n",
      "3  Upper middle income                                                NaN   \n",
      "4  Upper middle income                                                NaN   \n",
      "\n",
      "                     TableName  Unnamed: 5  \n",
      "0                  Afghanistan         NaN  \n",
      "1  Africa Eastern and Southern         NaN  \n",
      "2   Africa Western and Central         NaN  \n",
      "3                      Albania         NaN  \n",
      "4                      Algeria         NaN  \n",
      "\n",
      "[5 rows x 279 columns]\n"
     ]
    }
   ],
   "source": [
    "print(\"Data preview:\")\n",
    "print(merged_df.head())"
   ]
  },
  {
   "cell_type": "code",
   "execution_count": 18,
   "id": "20835080-806d-4d82-ac4e-8fdc8c49f78d",
   "metadata": {},
   "outputs": [
    {
     "name": "stdout",
     "output_type": "stream",
     "text": [
      "Found columns:\n",
      "Unemployment: 5 columns\n",
      "Inflation: 5 columns\n",
      "GDP Per Capita: 0 columns\n",
      "GDP Total: 5 columns\n"
     ]
    }
   ],
   "source": [
    "analysis_years = ['2019', '2020', '2021', '2022', '2023']\n",
    "\n",
    "unemployment_cols = [col for col in merged_df.columns if any(year in col for year in analysis_years) and 'unemployment' in col.lower()]\n",
    "inflation_cols = [col for col in merged_df.columns if any(year in col for year in analysis_years) and 'inflation' in col.lower()]\n",
    "gdp_pc_cols = [col for col in merged_df.columns if any(year in col for year in analysis_years) and 'gdp' in col.lower() and 'per capita' in col.lower()]\n",
    "gdp_total_cols = [col for col in merged_df.columns if any(year in col for year in analysis_years) and 'gdp' in col.lower() and 'per capita' not in col.lower()]\n",
    "\n",
    "print(f\"Found columns:\")\n",
    "print(f\"Unemployment: {len(unemployment_cols)} columns\")\n",
    "print(f\"Inflation: {len(inflation_cols)} columns\") \n",
    "print(f\"GDP Per Capita: {len(gdp_pc_cols)} columns\")\n",
    "print(f\"GDP Total: {len(gdp_total_cols)} columns\")"
   ]
  },
  {
   "cell_type": "code",
   "execution_count": 33,
   "id": "d5a0abb2-b01b-46d2-986c-9063602ab825",
   "metadata": {},
   "outputs": [
    {
     "name": "stdout",
     "output_type": "stream",
     "text": [
      "Dataset dimensions: (266, 279)\n",
      "Total columns: 279\n",
      "\n",
      "Column types:\n",
      "float64    265\n",
      "object      14\n",
      "Name: count, dtype: int64\n",
      "\n",
      "Columns with most non-null values:\n",
      "Country Name                   266\n",
      "Country Code                   266\n",
      "Indicator Code_unemployment    266\n",
      "Indicator Name_unemployment    266\n",
      "Indicator Code_inflation       266\n",
      "Indicator Name_gdp_total       266\n",
      "Indicator Name_inflation       266\n",
      "Indicator Code_gdp_total       266\n",
      "Indicator Code                 266\n",
      "Indicator Name                 266\n",
      "TableName                      265\n",
      "2011                           262\n",
      "2011_gdp_total                 262\n",
      "2009                           261\n",
      "2014                           261\n",
      "dtype: int64\n",
      "\n",
      "Completely empty columns: 36\n",
      "Examples: ['1960_unemployment', '1961_unemployment', '1962_unemployment', '1963_unemployment', '1964_unemployment']\n",
      "\n",
      "Nearly empty columns (<5% data): 0\n"
     ]
    }
   ],
   "source": [
    "# DATA REALITY CHECK\n",
    "print(f\"Dataset dimensions: {merged_df.shape}\")\n",
    "print(f\"Total columns: {len(merged_df.columns)}\")\n",
    "\n",
    "print(f\"\\nColumn types:\")\n",
    "print(merged_df.dtypes.value_counts())\n",
    "\n",
    "print(f\"\\nColumns with most non-null values:\")\n",
    "non_null_counts = merged_df.count().sort_values(ascending=False)\n",
    "print(non_null_counts.head(15))\n",
    "\n",
    "empty_cols = merged_df.columns[merged_df.isnull().all()].tolist()\n",
    "print(f\"\\nCompletely empty columns: {len(empty_cols)}\")\n",
    "if len(empty_cols) > 0:\n",
    "    print(\"Examples:\", empty_cols[:5])\n",
    "\n",
    "nearly_empty = []\n",
    "for col in merged_df.columns:\n",
    "    non_null_pct = (merged_df[col].count() / len(merged_df)) * 100\n",
    "    if non_null_pct < 5 and non_null_pct > 0:\n",
    "        nearly_empty.append((col, non_null_pct))\n",
    "\n",
    "print(f\"\\nNearly empty columns (<5% data): {len(nearly_empty)}\")\n",
    "for col, pct in nearly_empty[:5]:\n",
    "    print(f\"- {col}: {pct:.1f}% data\")"
   ]
  },
  {
   "cell_type": "code",
   "execution_count": 28,
   "id": "97bc6cf1-a7f9-42e7-aecf-e5fc2cdc40d9",
   "metadata": {},
   "outputs": [
    {
     "name": "stdout",
     "output_type": "stream",
     "text": [
      "\n",
      "Usable columns (≥20% data):\n",
      "- Country Name: 100.0% (text)\n",
      "- Country Code: 100.0% (text)\n",
      "- Indicator Name_unemployment: 100.0% (text)\n",
      "- Indicator Code_unemployment: 100.0% (text)\n",
      "- Indicator Name_inflation: 100.0% (text)\n",
      "- Indicator Code_inflation: 100.0% (text)\n",
      "- Indicator Name: 100.0% (text)\n",
      "- Indicator Code: 100.0% (text)\n",
      "- Indicator Name_gdp_total: 100.0% (text)\n",
      "- Indicator Code_gdp_total: 100.0% (text)\n",
      "- TableName: 99.6% (text)\n",
      "- 2011: 98.5% (numeric)\n",
      "- 2011_gdp_total: 98.5% (numeric)\n",
      "- 2009: 98.1% (numeric)\n",
      "- 2010: 98.1% (numeric)\n",
      "- 2014: 98.1% (numeric)\n",
      "- 2009_gdp_total: 98.1% (numeric)\n",
      "- 2010_gdp_total: 98.1% (numeric)\n",
      "- 2014_gdp_total: 98.1% (numeric)\n",
      "- 2012: 97.7% (numeric)\n",
      "- 2013: 97.7% (numeric)\n",
      "- 2012_gdp_total: 97.7% (numeric)\n",
      "- 2013_gdp_total: 97.7% (numeric)\n",
      "- 2008: 97.4% (numeric)\n",
      "- 2015: 97.4% (numeric)\n",
      "- 2019: 97.4% (numeric)\n",
      "- 2008_gdp_total: 97.4% (numeric)\n",
      "- 2015_gdp_total: 97.4% (numeric)\n",
      "- 2006: 97.0% (numeric)\n",
      "- 2007: 97.0% (numeric)\n",
      "- 2016: 97.0% (numeric)\n",
      "- 2017: 97.0% (numeric)\n",
      "- 2018: 97.0% (numeric)\n",
      "- 2020: 97.0% (numeric)\n",
      "- 2021: 97.0% (numeric)\n",
      "- 2006_gdp_total: 97.0% (numeric)\n",
      "- 2007_gdp_total: 97.0% (numeric)\n",
      "- 2016_gdp_total: 97.0% (numeric)\n",
      "- 2017_gdp_total: 97.0% (numeric)\n",
      "- 2018_gdp_total: 97.0% (numeric)\n",
      "- 2019_gdp_total: 97.0% (numeric)\n",
      "- 2002: 96.6% (numeric)\n",
      "- 2003: 96.6% (numeric)\n",
      "- 2004: 96.6% (numeric)\n",
      "- 2005: 96.6% (numeric)\n",
      "- 2022: 96.6% (numeric)\n",
      "- 2002_gdp_total: 96.6% (numeric)\n",
      "- 2003_gdp_total: 96.6% (numeric)\n",
      "- 2004_gdp_total: 96.6% (numeric)\n",
      "- 2005_gdp_total: 96.6% (numeric)\n",
      "- 2020_gdp_total: 96.6% (numeric)\n",
      "- 2021_gdp_total: 96.6% (numeric)\n",
      "- 2022_gdp_total: 96.2% (numeric)\n",
      "- 2001: 95.1% (numeric)\n",
      "- 2001_gdp_total: 95.1% (numeric)\n",
      "- 2000: 94.7% (numeric)\n",
      "- 2000_gdp_total: 94.7% (numeric)\n",
      "- 1998: 94.0% (numeric)\n",
      "- 1999: 94.0% (numeric)\n",
      "- 1998_gdp_total: 94.0% (numeric)\n",
      "- 1999_gdp_total: 94.0% (numeric)\n",
      "- 1997: 93.6% (numeric)\n",
      "- 2023: 93.6% (numeric)\n",
      "- 1997_gdp_total: 93.6% (numeric)\n",
      "- 2023_gdp_total: 93.2% (numeric)\n",
      "- 1995: 92.9% (numeric)\n",
      "- 1996: 92.9% (numeric)\n",
      "- 1995_gdp_total: 92.9% (numeric)\n",
      "- 1996_gdp_total: 92.9% (numeric)\n",
      "- 1994: 91.7% (numeric)\n",
      "- 1994_gdp_total: 91.7% (numeric)\n",
      "- 1993: 91.4% (numeric)\n",
      "- 1993_gdp_total: 91.4% (numeric)\n",
      "- 1992: 91.0% (numeric)\n",
      "- 1992_gdp_total: 91.0% (numeric)\n",
      "- 1991: 90.6% (numeric)\n",
      "- 1991_gdp_total: 90.6% (numeric)\n",
      "- 2011_inflation: 90.2% (numeric)\n",
      "- 1990: 90.2% (numeric)\n",
      "- 1990_gdp_total: 90.2% (numeric)\n",
      "- 2012_inflation: 89.8% (numeric)\n",
      "- 2013_inflation: 89.5% (numeric)\n",
      "- 2014_inflation: 89.1% (numeric)\n",
      "- 2010_inflation: 88.7% (numeric)\n",
      "- 2015_inflation: 88.7% (numeric)\n",
      "- 2016_inflation: 88.7% (numeric)\n",
      "- 1991_unemployment: 88.3% (numeric)\n",
      "- 1992_unemployment: 88.3% (numeric)\n",
      "- 1993_unemployment: 88.3% (numeric)\n",
      "- 1994_unemployment: 88.3% (numeric)\n",
      "- 1995_unemployment: 88.3% (numeric)\n",
      "- 1996_unemployment: 88.3% (numeric)\n",
      "- 1997_unemployment: 88.3% (numeric)\n",
      "- 1998_unemployment: 88.3% (numeric)\n",
      "- 1999_unemployment: 88.3% (numeric)\n",
      "- 2000_unemployment: 88.3% (numeric)\n",
      "- 2001_unemployment: 88.3% (numeric)\n",
      "- 2002_unemployment: 88.3% (numeric)\n",
      "- 2003_unemployment: 88.3% (numeric)\n",
      "- 2004_unemployment: 88.3% (numeric)\n",
      "- 2005_unemployment: 88.3% (numeric)\n",
      "- 2006_unemployment: 88.3% (numeric)\n",
      "- 2007_unemployment: 88.3% (numeric)\n",
      "- 2008_unemployment: 88.3% (numeric)\n",
      "- 2009_unemployment: 88.3% (numeric)\n",
      "- 2010_unemployment: 88.3% (numeric)\n",
      "- 2011_unemployment: 88.3% (numeric)\n",
      "- 2012_unemployment: 88.3% (numeric)\n",
      "- 2013_unemployment: 88.3% (numeric)\n",
      "- 2014_unemployment: 88.3% (numeric)\n",
      "- 2015_unemployment: 88.3% (numeric)\n",
      "- 2016_unemployment: 88.3% (numeric)\n",
      "- 2017_unemployment: 88.3% (numeric)\n",
      "- 2018_unemployment: 88.3% (numeric)\n",
      "- 2019_unemployment: 88.3% (numeric)\n",
      "- 2020_unemployment: 88.3% (numeric)\n",
      "- 2021_unemployment: 88.3% (numeric)\n",
      "- 2022_unemployment: 88.0% (numeric)\n",
      "- 2009_inflation: 88.0% (numeric)\n",
      "- 2023_unemployment: 87.2% (numeric)\n",
      "- 2024: 87.2% (numeric)\n",
      "- 2008_inflation: 86.8% (numeric)\n",
      "- 2017_inflation: 86.8% (numeric)\n",
      "- 2024_gdp_total: 86.8% (numeric)\n",
      "- 2024_unemployment: 86.5% (numeric)\n",
      "- 2007_inflation: 86.5% (numeric)\n",
      "- 2018_inflation: 86.1% (numeric)\n",
      "- 2019_inflation: 86.1% (numeric)\n",
      "- 2006_inflation: 85.7% (numeric)\n",
      "- 2005_inflation: 84.6% (numeric)\n",
      "- 2020_inflation: 84.2% (numeric)\n",
      "- 2021_inflation: 84.2% (numeric)\n",
      "- 2022_inflation: 83.8% (numeric)\n",
      "- 1988: 83.8% (numeric)\n",
      "- 1989: 83.8% (numeric)\n",
      "- 1988_gdp_total: 83.8% (numeric)\n",
      "- 1989_gdp_total: 83.8% (numeric)\n",
      "- 2004_inflation: 83.5% (numeric)\n",
      "- 2003_inflation: 83.1% (numeric)\n",
      "- 2023_inflation: 82.7% (numeric)\n",
      "- 1987: 82.7% (numeric)\n",
      "- 1987_gdp_total: 82.7% (numeric)\n",
      "- 2002_inflation: 82.0% (numeric)\n",
      "- Region: 81.6% (text)\n",
      "- 2001_inflation: 81.2% (numeric)\n",
      "- IncomeGroup: 80.8% (text)\n",
      "- 1985: 80.1% (numeric)\n",
      "- 1986: 80.1% (numeric)\n",
      "- 1985_gdp_total: 80.1% (numeric)\n",
      "- 1986_gdp_total: 80.1% (numeric)\n",
      "- 2000_inflation: 79.3% (numeric)\n",
      "- 1984: 79.3% (numeric)\n",
      "- 1984_gdp_total: 79.3% (numeric)\n",
      "- 1982: 78.6% (numeric)\n",
      "- 1983: 78.6% (numeric)\n",
      "- 1982_gdp_total: 78.6% (numeric)\n",
      "- 1983_gdp_total: 78.6% (numeric)\n",
      "- 1980: 78.2% (numeric)\n",
      "- 1981: 78.2% (numeric)\n",
      "- 1980_gdp_total: 78.2% (numeric)\n",
      "- 1981_gdp_total: 78.2% (numeric)\n",
      "- 1999_inflation: 77.8% (numeric)\n",
      "- 1996_inflation: 77.1% (numeric)\n",
      "- 1997_inflation: 77.1% (numeric)\n",
      "- 1998_inflation: 77.1% (numeric)\n",
      "- 2024_inflation: 77.1% (numeric)\n",
      "- 1995_inflation: 75.9% (numeric)\n",
      "- 1994_inflation: 74.4% (numeric)\n",
      "- 1977: 74.4% (numeric)\n",
      "- 1979: 74.4% (numeric)\n",
      "- 1977_gdp_total: 74.4% (numeric)\n",
      "- 1979_gdp_total: 74.4% (numeric)\n",
      "- 1978: 74.1% (numeric)\n",
      "- 1978_gdp_total: 74.1% (numeric)\n",
      "- 1975: 73.3% (numeric)\n",
      "- 1976: 73.3% (numeric)\n",
      "- 1975_gdp_total: 73.3% (numeric)\n",
      "- 1976_gdp_total: 73.3% (numeric)\n",
      "- 1993_inflation: 72.6% (numeric)\n",
      "- 1971: 71.8% (numeric)\n",
      "- 1972: 71.8% (numeric)\n",
      "- 1973: 71.8% (numeric)\n",
      "- 1974: 71.8% (numeric)\n",
      "- 1971_gdp_total: 71.8% (numeric)\n",
      "- 1972_gdp_total: 71.8% (numeric)\n",
      "- 1973_gdp_total: 71.8% (numeric)\n",
      "- 1974_gdp_total: 71.8% (numeric)\n",
      "- 1970: 71.4% (numeric)\n",
      "- 1970_gdp_total: 71.4% (numeric)\n",
      "- 1992_inflation: 70.3% (numeric)\n",
      "- 1991_inflation: 67.3% (numeric)\n",
      "- 1989_inflation: 65.0% (numeric)\n",
      "- 1990_inflation: 65.0% (numeric)\n",
      "- 1987_inflation: 63.9% (numeric)\n",
      "- 1988_inflation: 63.9% (numeric)\n",
      "- 1968: 63.2% (numeric)\n",
      "- 1969: 63.2% (numeric)\n",
      "- 1968_gdp_total: 63.2% (numeric)\n",
      "- 1969_gdp_total: 63.2% (numeric)\n",
      "- 1967: 62.8% (numeric)\n",
      "- 1967_gdp_total: 62.8% (numeric)\n",
      "- 1986_inflation: 61.7% (numeric)\n",
      "- 1966: 61.3% (numeric)\n",
      "- 1966_gdp_total: 61.3% (numeric)\n",
      "- 1965: 60.9% (numeric)\n",
      "- 1965_gdp_total: 60.9% (numeric)\n",
      "- 1962: 58.6% (numeric)\n",
      "- 1963: 58.6% (numeric)\n",
      "- 1964: 58.6% (numeric)\n",
      "- 1962_gdp_total: 58.6% (numeric)\n",
      "- 1963_gdp_total: 58.6% (numeric)\n",
      "- 1964_gdp_total: 58.6% (numeric)\n",
      "- 1985_inflation: 58.3% (numeric)\n",
      "- 1984_inflation: 57.9% (numeric)\n",
      "- 1961: 57.9% (numeric)\n",
      "- 1961_gdp_total: 57.9% (numeric)\n",
      "- 1960: 56.8% (numeric)\n",
      "- 1960_gdp_total: 56.8% (numeric)\n",
      "- 1982_inflation: 56.4% (numeric)\n",
      "- 1983_inflation: 56.4% (numeric)\n",
      "- 1981_inflation: 56.0% (numeric)\n",
      "- 1980_inflation: 50.0% (numeric)\n",
      "- 1977_inflation: 48.9% (numeric)\n",
      "- 1978_inflation: 48.9% (numeric)\n",
      "- SpecialNotes: 48.5% (text)\n",
      "- 1976_inflation: 47.0% (numeric)\n",
      "- 1979_inflation: 47.0% (numeric)\n",
      "- 1975_inflation: 46.6% (numeric)\n",
      "- 1974_inflation: 44.7% (numeric)\n",
      "- 1973_inflation: 44.0% (numeric)\n",
      "- 1972_inflation: 42.9% (numeric)\n",
      "- 1971_inflation: 42.1% (numeric)\n",
      "- 1970_inflation: 40.6% (numeric)\n",
      "- 1969_inflation: 38.3% (numeric)\n",
      "- 1968_inflation: 38.0% (numeric)\n",
      "- 1967_inflation: 37.6% (numeric)\n",
      "- 1966_inflation: 35.0% (numeric)\n",
      "- 1965_inflation: 32.3% (numeric)\n",
      "- 1964_inflation: 29.7% (numeric)\n",
      "- 1962_inflation: 27.8% (numeric)\n",
      "- 1963_inflation: 27.8% (numeric)\n",
      "- 1961_inflation: 27.1% (numeric)\n",
      "- 1960_inflation: 26.3% (numeric)\n",
      "\n",
      "Economic indicators check:\n",
      "GDP: 65 usable columns\n",
      "  - 1960_gdp_total\n",
      "  - 1961_gdp_total\n",
      "  - 1962_gdp_total\n",
      "INFLATION: 65 usable columns\n",
      "  - 1960_inflation\n",
      "  - 1961_inflation\n",
      "  - 1962_inflation\n",
      "UNEMPLOYMENT: 34 usable columns\n",
      "  - 1991_unemployment\n",
      "  - 1992_unemployment\n",
      "  - 1993_unemployment\n",
      "INCOME: 0 usable columns\n"
     ]
    }
   ],
   "source": [
    "#Find usable columns\n",
    "usable_columns = []\n",
    "for col in merged_df.columns:\n",
    "    non_null_pct = (merged_df[col].count() / len(merged_df)) * 100\n",
    "    if non_null_pct >= 20:  # over 20%\n",
    "        if merged_df[col].dtype in ['int64', 'float64']:\n",
    "            usable_columns.append((col, non_null_pct, 'numeric'))\n",
    "        else:\n",
    "            numeric_test = pd.to_numeric(merged_df[col], errors='coerce')\n",
    "            if numeric_test.count() / len(merged_df) >= 0.2:\n",
    "                usable_columns.append((col, non_null_pct, 'convertible'))\n",
    "            else:\n",
    "                usable_columns.append((col, non_null_pct, 'text'))\n",
    "\n",
    "print(f\"\\nUsable columns (≥20% data):\")\n",
    "for col, pct, dtype in sorted(usable_columns, key=lambda x: x[1], reverse=True):\n",
    "    print(f\"- {col}: {pct:.1f}% ({dtype})\")\n",
    "\n",
    "print(f\"\\nEconomic indicators check:\")\n",
    "economic_keywords = ['gdp', 'inflation', 'unemployment', 'income']\n",
    "for keyword in economic_keywords:\n",
    "    relevant_cols = [col for col, pct, dtype in usable_columns \n",
    "                    if keyword in col.lower() and dtype in ['numeric', 'convertible']]\n",
    "    print(f\"{keyword.upper()}: {len(relevant_cols)} usable columns\")\n",
    "    for col in relevant_cols[:3]: \n",
    "        print(f\"  - {col}\")"
   ]
  },
  {
   "cell_type": "code",
   "execution_count": 29,
   "id": "3311f733-9347-4d2e-b543-5cb5b9e37c67",
   "metadata": {},
   "outputs": [
    {
     "name": "stdout",
     "output_type": "stream",
     "text": [
      "\n",
      "=== VISUALIZATION FEASIBILITY ===\n",
      "Countries in dataset: 266\n",
      "Sample countries: ['Afghanistan', 'Africa Eastern and Southern', 'Africa Western and Central', 'Albania', 'Algeria', 'American Samoa', 'Andorra', 'Angola', 'Antigua and Barbuda', 'Arab World']\n",
      "\n",
      "Years found in column names: [1990, 1991, 1992, 1993, 1994, 1995, 1996, 1997, 1998, 1999, 2000, 2001, 2002, 2003, 2004, 2005, 2006, 2007, 2008, 2009, 2010, 2011, 2012, 2013, 2014, 2015, 2016, 2017, 2018, 2019, 2020, 2021, 2022, 2023, 2024]\n",
      "Year range: 1990 - 2024\n",
      "\n",
      "Scatter plot feasibility:\n",
      "- Numeric columns available: 229\n",
      "- Minimum needed: 2\n",
      "- Can create scatter plots: YES\n",
      "\n",
      "Time series feasibility:\n",
      "- Years available: 35\n",
      "- Minimum needed: 3\n",
      "- Can create time series: YES\n"
     ]
    }
   ],
   "source": [
    "# VISUALIZATION FEASIBILITY\n",
    "print(f\"Countries in dataset: {merged_df['Country Name'].nunique()}\")\n",
    "print(f\"Sample countries:\", list(merged_df['Country Name'].dropna().unique()[:10]))\n",
    "\n",
    "years_in_columns = set()\n",
    "for col in merged_df.columns:\n",
    "    for year in range(1990, 2025):\n",
    "        if str(year) in col:\n",
    "            years_in_columns.add(year)\n",
    "\n",
    "print(f\"\\nYears found in column names: {sorted(years_in_columns)}\")\n",
    "print(f\"Year range: {min(years_in_columns) if years_in_columns else 'None'} - {max(years_in_columns) if years_in_columns else 'None'}\")\n",
    "\n",
    "numeric_cols = [col for col, pct, dtype in usable_columns if dtype in ['numeric', 'convertible']]\n",
    "print(f\"\\nScatter plot feasibility:\")\n",
    "print(f\"- Numeric columns available: {len(numeric_cols)}\")\n",
    "print(f\"- Minimum needed: 2\")\n",
    "print(f\"- Can create scatter plots: {'YES' if len(numeric_cols) >= 2 else 'NO'}\")\n",
    "\n",
    "time_series_possible = False\n",
    "if years_in_columns and len(years_in_columns) >= 3:\n",
    "    for keyword in ['gdp', 'inflation', 'unemployment']:\n",
    "        yearly_cols = [col for col in merged_df.columns \n",
    "                      if keyword in col.lower() and any(str(year) in col for year in years_in_columns)]\n",
    "        if len(yearly_cols) >= 3:\n",
    "            time_series_possible = True\n",
    "            break\n",
    "\n",
    "print(f\"\\nTime series feasibility:\")\n",
    "print(f\"- Years available: {len(years_in_columns)}\")\n",
    "print(f\"- Minimum needed: 3\")\n",
    "print(f\"- Can create time series: {'YES' if time_series_possible else 'NO'}\")"
   ]
  },
  {
   "cell_type": "code",
   "execution_count": 35,
   "id": "7cb60fdc-c49e-44a3-be33-6a64e72a35e6",
   "metadata": {},
   "outputs": [
    {
     "data": {
      "image/png": "[encoded data removed]",
      "text/plain": [
       "<Figure size 1500x800 with 2 Axes>"
      ]
     },
     "metadata": {},
     "output_type": "display_data"
    }
   ],
   "source": [
    "plt.figure(figsize=(15, 8))\n",
    "\n",
    "indicator_cols = unemployment_cols + inflation_cols + gdp_pc_cols[:5] + gdp_total_cols[:5]  # 限制列数\n",
    "indicator_data = merged_df[['Country Name'] + indicator_cols].set_index('Country Name')\n",
    "\n",
    "missing_data = indicator_data.isnull()\n",
    "\n",
    "sns.heatmap(missing_data.iloc[:30], \n",
    "           cmap='RdYlGn_r', \n",
    "           cbar_kws={'label': 'Missing Data'})\n",
    "plt.title('Data Completeness by Country and Indicator (First 30 Countries)')\n",
    "plt.xlabel('Economic Indicators')\n",
    "plt.ylabel('Countries')\n",
    "plt.xticks(rotation=45, ha='right')\n",
    "plt.tight_layout()\n",
    "plt.show()"
   ]
  },
  {
   "cell_type": "code",
   "execution_count": 36,
   "id": "50dc00a5-31dc-4887-9f36-88ad124edbd2",
   "metadata": {},
   "outputs": [
    {
     "name": "stdout",
     "output_type": "stream",
     "text": [
      "Countries with >70% data completeness: 217\n",
      "Sample countries: ['Afghanistan', 'Africa Eastern and Southern', 'Africa Western and Central', 'Albania', 'Algeria', 'Angola', 'Arab World', 'Armenia', 'Australia', 'Austria']\n",
      "Analysis dataset: (217, 279)\n"
     ]
    }
   ],
   "source": [
    "complete_countries = []\n",
    "for idx, row in merged_df.iterrows():\n",
    "    test_cols = []\n",
    "    for year in ['2019', '2020', '2021', '2022', '2023']:\n",
    "        test_cols.extend([col for col in merged_df.columns if year in col and any(ind in col.lower() for ind in ['unemployment', 'inflation', 'gdp'])])\n",
    "    \n",
    "    if len(test_cols) > 0:\n",
    "        completeness = row[test_cols].notna().sum() / len(test_cols)\n",
    "        if completeness > 0.7:  \n",
    "            complete_countries.append(row['Country Name'])\n",
    "\n",
    "print(f\"Countries with >70% data completeness: {len(complete_countries)}\")\n",
    "print(\"Sample countries:\", complete_countries[:10])\n",
    "\n",
    "df_complete = merged_df[merged_df['Country Name'].isin(complete_countries)].copy()\n",
    "print(f\"Analysis dataset: {df_complete.shape}\")"
   ]
  },
  {
   "cell_type": "code",
   "execution_count": 37,
   "id": "f037cb98-f029-429d-984a-17fd6178b667",
   "metadata": {},
   "outputs": [
    {
     "name": "stdout",
     "output_type": "stream",
     "text": [
      "Available key tourism countries:\n",
      "- Australia\n",
      "- China\n",
      "- United States\n",
      "- United Kingdom\n",
      "- Japan\n",
      "- New Zealand\n",
      "- Germany\n",
      "- Canada\n",
      "- Korea, Rep.\n",
      "- India\n",
      "- Singapore\n"
     ]
    }
   ],
   "source": [
    "key_tourism_countries = [\n",
    "    'Australia', 'China', 'United States', 'United Kingdom', \n",
    "    'Japan', 'New Zealand', 'Germany', 'Canada', \n",
    "    'Korea, Rep.', 'India', 'Singapore'\n",
    "]\n",
    "\n",
    "available_countries = []\n",
    "for country in key_tourism_countries:\n",
    "    if country in merged_df['Country Name'].values:\n",
    "        available_countries.append(country)\n",
    "\n",
    "print(\"Available key tourism countries:\")\n",
    "for country in available_countries:\n",
    "    print(f\"- {country}\")\n",
    "\n",
    "df_key_countries = merged_df[merged_df['Country Name'].isin(available_countries)].copy()"
   ]
  }
 ],
 "metadata": {
  "kernelspec": {
   "display_name": "Python 3 (ipykernel)",
   "language": "python",
   "name": "python3"
  },
  "language_info": {
   "codemirror_mode": {
    "name": "ipython",
    "version": 3
   },
   "file_extension": ".py",
   "mimetype": "text/x-python",
   "name": "python",
   "nbconvert_exporter": "python",
   "pygments_lexer": "ipython3",
   "version": "3.10.7"
  }
 },
 "nbformat": 4,
 "nbformat_minor": 5
}
